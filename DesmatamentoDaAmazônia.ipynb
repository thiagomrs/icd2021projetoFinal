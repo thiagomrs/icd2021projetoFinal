{
 "nbformat": 4,
 "nbformat_minor": 0,
 "metadata": {
  "colab": {
   "name": "DesmatamentoDaAmazônia.ipynb",
   "provenance": [],
   "toc_visible": true,
   "mount_file_id": "1qWl8lgl__Z7IrsLSg10RTFXU_0JYvIRv",
   "authorship_tag": "ABX9TyNYrlQ/1Iv1UeAZlFZbP+X4"
  },
  "kernelspec": {
   "name": "python3",
   "language": "python",
   "display_name": "Python 3"
  },
  "language_info": {
   "name": "python"
  }
 },
 "cells": [
  {
   "cell_type": "markdown",
   "metadata": {
    "id": "5gqZpotbKQ86"
   },
   "source": [
    "# Desmatamento das Áreas de Floresta do Brasil \n",
    "\n",
    "---\n",
    "\n"
   ]
  },
  {
   "cell_type": "markdown",
   "metadata": {
    "id": "K-cvxcIRJs1k"
   },
   "source": [
    "\n",
    "## 1st Dataset\n",
    "\n",
    "https://www.kaggle.com/mbogernetto/brazilian-amazon-rainforest-degradation\n",
    "\n",
    "### Context\n",
    "\n",
    "The Amazon rainforest is a moist broadleaf tropical rainforest in the Amazon biome that covers territory belonging to nine nations. The majority of the forest is contained within Brazil, with 60% of the rainforest, followed by Peru with 13%, Colombia with 10%, and with minor amounts in Venezuela, Ecuador, Bolivia, Guyana, Suriname and French Guiana.\n",
    "\n",
    "The region provides important benefits to communities living near and far. Nearly 500 indigenous communities call the Amazon rainforest home. It’s a highly biodiverse ecosystem, home to untold species of plants and animals. The rainforest can create its own weather and influence climates around the world. Unfortunately, the fragile ecosystem faces the constant threat of deforestation and fires (for natural or anthropogenic causes).\n",
    "\n",
    "Deforestation happens for many reasons, such as illegal agriculture, natural disasters, urbanization and mining. There are several ways to remove forests - burning and logging are two methods. Although deforestation is happening all over the world today, it is an especially critical issue in the Amazon rainforests, as the only large forest still standing in the world. There, the species of plants and animals they harbor have been disappearing at an alarming rate.\n",
    "\n",
    "### Content\n",
    "\n",
    "This dataset refers to 3 files:\n",
    "\n",
    "**'inpebrazilianamazonfires1999_2019' :** amount of fire outbreaks in Brazilian Amazon by state, month and year, from 1999 to 2019. The original data are public and were extracted from INPE website on December 13th 2019, always from the filtering for the reference salellite and aggregated using Postgres SQL so that you could work with lighter files.\n",
    "Program: BDQ (Banco de Dados de Queimadas, or Fires Database).\n",
    "Methodology: detects fire outbreaks through satellite images, updated every 3 hours.\n",
    "\n",
    "**'defarea2004_2019' :** deforestation area (km²) by year and state, from 2004 to 2019. The data are public and were extracted from INPE website on December 16th 2019. It was already aggregated, so, no data process was made.\n",
    "Program: PRODES (Programa de Monitoramento da Floresta Amazônica Brasileira por Satélite, or Brazilian Amazon Rainforest Monitoring Program by Satellite).\n",
    "Methodology: maps primary forest loss using satellite imagery, with 20 to 30 meters of spatial resolution and 16-day revisit rate, in a combination that seeks to minimize the problem of cloud cover and ensure interoperability criteria.\n",
    "\n",
    "**'elninolanina1999_2019' :** Data about start year, end year, and severity of 2 of the most important climatic phenomena.\n",
    "Data were extracted from Golden Gate Weather Services on December 20th 2019 and were unpivoted.\n",
    "\n",
    "\n",
    "### Inspiration\n",
    "\n",
    "The importance of the Amazon rainforest for the balance of the world environment is unquestionable. Is Amazon Degradation Increasing?"
   ]
  },
  {
   "cell_type": "markdown",
   "metadata": {
    "id": "9ywL7ec2R6V0"
   },
   "source": [
    "## Python Environment Setup"
   ]
  },
  {
   "cell_type": "code",
   "metadata": {
    "id": "rG-S3RUxR0SA",
    "executionInfo": {
     "status": "ok",
     "timestamp": 1624408321106,
     "user_tz": 180,
     "elapsed": 892,
     "user": {
      "displayName": "Lorena Leão",
      "photoUrl": "https://lh3.googleusercontent.com/a-/AOh14Gja2BMOdqMKMdOxT0E9KyHFC0f0K3wC17oLTkleKw=s64",
      "userId": "04396726281531871123"
     }
    }
   },
   "source": [
    "import pandas as pd"
   ],
   "execution_count": 1,
   "outputs": []
  },
  {
   "cell_type": "markdown",
   "metadata": {
    "id": "ABJIr4bUO2tF"
   },
   "source": [
    "## Mounting the Drive and Accessing our `datasets` Directory"
   ]
  },
  {
   "cell_type": "code",
   "metadata": {
    "colab": {
     "base_uri": "https://localhost:8080/"
    },
    "id": "2x-uu9DJK6TG",
    "executionInfo": {
     "status": "ok",
     "timestamp": 1624407359515,
     "user_tz": 180,
     "elapsed": 392,
     "user": {
      "displayName": "Lorena Leão",
      "photoUrl": "https://lh3.googleusercontent.com/a-/AOh14Gja2BMOdqMKMdOxT0E9KyHFC0f0K3wC17oLTkleKw=s64",
      "userId": "04396726281531871123"
     }
    },
    "outputId": "cff7f9c8-eec6-4a12-b541-5113976cc64c"
   },
   "source": [],
   "execution_count": 2,
   "outputs": [
    {
     "ename": "SyntaxError",
     "evalue": "invalid syntax (<ipython-input-2-50feada40a70>, line 1)",
     "output_type": "error",
     "traceback": [
      "\u001B[0;36m  File \u001B[0;32m\"<ipython-input-2-50feada40a70>\"\u001B[0;36m, line \u001B[0;32m1\u001B[0m\n\u001B[0;31m    cd '/content/drive/MyDrive/Projeto de ICD 2021 1/datasets/brazilian-amazon-rainforest-degradation'\u001B[0m\n\u001B[0m       ^\u001B[0m\n\u001B[0;31mSyntaxError\u001B[0m\u001B[0;31m:\u001B[0m invalid syntax\n"
     ]
    }
   ]
  },
  {
   "cell_type": "markdown",
   "metadata": {
    "id": "2GWZ8A3DRSRl"
   },
   "source": [
    "### Checking the files sizes"
   ]
  },
  {
   "cell_type": "code",
   "metadata": {
    "colab": {
     "base_uri": "https://localhost:8080/"
    },
    "id": "okIXPBUcONIV",
    "executionInfo": {
     "status": "ok",
     "timestamp": 1624407609100,
     "user_tz": 180,
     "elapsed": 804,
     "user": {
      "displayName": "Lorena Leão",
      "photoUrl": "https://lh3.googleusercontent.com/a-/AOh14Gja2BMOdqMKMdOxT0E9KyHFC0f0K3wC17oLTkleKw=s64",
      "userId": "04396726281531871123"
     }
    },
    "outputId": "dbf4cabb-96d5-45f0-f6f9-351533c39d9c"
   },
   "source": [
    "!ls -l -h"
   ],
   "execution_count": null,
   "outputs": []
  },
  {
   "cell_type": "markdown",
   "metadata": {
    "id": "OA4vXsqTRYAR"
   },
   "source": [
    "### Checking the files structures"
   ]
  },
  {
   "cell_type": "markdown",
   "metadata": {
    "id": "GdSQfVwLTWD1"
   },
   "source": [
    "#### Amazon Fires Dataset"
   ]
  },
  {
   "cell_type": "code",
   "metadata": {
    "colab": {
     "base_uri": "https://localhost:8080/"
    },
    "id": "HJ8NdYojPmcv",
    "executionInfo": {
     "status": "ok",
     "timestamp": 1624407717488,
     "user_tz": 180,
     "elapsed": 1305,
     "user": {
      "displayName": "Lorena Leão",
      "photoUrl": "https://lh3.googleusercontent.com/a-/AOh14Gja2BMOdqMKMdOxT0E9KyHFC0f0K3wC17oLTkleKw=s64",
      "userId": "04396726281531871123"
     }
    },
    "outputId": "d4279a06-7757-42d7-b8d9-1cc1b188f10a"
   },
   "source": [
    "!head inpe_brazilian_amazon_fires_1999_2019.csv"
   ],
   "execution_count": null,
   "outputs": []
  },
  {
   "cell_type": "code",
   "metadata": {
    "colab": {
     "base_uri": "https://localhost:8080/"
    },
    "id": "3xltJyuRQbJY",
    "executionInfo": {
     "status": "ok",
     "timestamp": 1624407963233,
     "user_tz": 180,
     "elapsed": 414,
     "user": {
      "displayName": "Lorena Leão",
      "photoUrl": "https://lh3.googleusercontent.com/a-/AOh14Gja2BMOdqMKMdOxT0E9KyHFC0f0K3wC17oLTkleKw=s64",
      "userId": "04396726281531871123"
     }
    },
    "outputId": "0187f0f7-ae19-489c-8c92-5a993f78ea28"
   },
   "source": [
    "!tail inpe_brazilian_amazon_fires_1999_2019.csv"
   ],
   "execution_count": null,
   "outputs": []
  },
  {
   "cell_type": "markdown",
   "metadata": {
    "id": "xadkO6D9Qc0c"
   },
   "source": [
    "##### **Data Dictionary**\n",
    "**year** Year of occurrence\n",
    "\n",
    "**month** Month of occurrence\n",
    "\n",
    "**state** State of occurrence\n",
    "\n",
    "**latitude** Average latitude of all occurrences in this month, year and state\n",
    "\n",
    "**longitude** Average longitude of all occurrences in this month, year and state\n",
    "\n",
    "**firespots** Number of forest fire outbreaks"
   ]
  },
  {
   "cell_type": "markdown",
   "metadata": {
    "id": "ThSZNp3CTje7"
   },
   "source": [
    "#### Deforestation Area Dataset"
   ]
  },
  {
   "cell_type": "code",
   "metadata": {
    "colab": {
     "base_uri": "https://localhost:8080/"
    },
    "id": "F7VRxeVoQveC",
    "executionInfo": {
     "status": "ok",
     "timestamp": 1624408014127,
     "user_tz": 180,
     "elapsed": 966,
     "user": {
      "displayName": "Lorena Leão",
      "photoUrl": "https://lh3.googleusercontent.com/a-/AOh14Gja2BMOdqMKMdOxT0E9KyHFC0f0K3wC17oLTkleKw=s64",
      "userId": "04396726281531871123"
     }
    },
    "outputId": "8ea2c490-25e0-4048-9afe-66d3959e18d8"
   },
   "source": [
    "!head def_area_2004_2019.csv"
   ],
   "execution_count": null,
   "outputs": []
  },
  {
   "cell_type": "code",
   "metadata": {
    "colab": {
     "base_uri": "https://localhost:8080/"
    },
    "id": "1Cs98msyQ001",
    "executionInfo": {
     "status": "ok",
     "timestamp": 1624408025148,
     "user_tz": 180,
     "elapsed": 394,
     "user": {
      "displayName": "Lorena Leão",
      "photoUrl": "https://lh3.googleusercontent.com/a-/AOh14Gja2BMOdqMKMdOxT0E9KyHFC0f0K3wC17oLTkleKw=s64",
      "userId": "04396726281531871123"
     }
    },
    "outputId": "ae4ab6ef-35d5-469e-c0ee-23f7ba372ea5"
   },
   "source": [
    "!tail def_area_2004_2019.csv"
   ],
   "execution_count": null,
   "outputs": []
  },
  {
   "cell_type": "markdown",
   "metadata": {
    "id": "TGorykP9TxuH"
   },
   "source": [
    "##### **Data Dictionary**\n",
    "\n",
    "**Ano/Estados** Year of occurrence\n",
    "\n",
    "**AC** Deforested area in Acre state (km²)\n",
    "\n",
    "**AM** Deforested area in Amazonas state (km²)\n",
    "\n",
    "**AP** Deforested area in Amapa state (km²)\n",
    "\n",
    "**MA** Deforested area in Maranhao state (km²)\n",
    "\n",
    "**MT** Deforested area in Mato Grosso state (km²)\n",
    "\n",
    "**PA** Deforested area in Para state (km²)\n",
    "\n",
    "**RO** Deforested area in Rondonia state (km²)\n",
    "\n",
    "**RR** Deforested area in Roraima state (km²)\n",
    "\n",
    "**TO** Deforested area in Tocantins state (km²)\n",
    "\n",
    "**AMZ LEGAL** (No description provided.)"
   ]
  },
  {
   "cell_type": "markdown",
   "metadata": {
    "id": "ItOWuU6sSG1R"
   },
   "source": [
    "## Creating DataFrames"
   ]
  },
  {
   "cell_type": "code",
   "metadata": {
    "colab": {
     "base_uri": "https://localhost:8080/",
     "height": 419
    },
    "id": "kkf5wHZtSBY2",
    "executionInfo": {
     "status": "ok",
     "timestamp": 1624408399961,
     "user_tz": 180,
     "elapsed": 792,
     "user": {
      "displayName": "Lorena Leão",
      "photoUrl": "https://lh3.googleusercontent.com/a-/AOh14Gja2BMOdqMKMdOxT0E9KyHFC0f0K3wC17oLTkleKw=s64",
      "userId": "04396726281531871123"
     }
    },
    "outputId": "0da0c46c-8821-4c43-d9ce-847b56d173d1"
   },
   "source": [
    "amazon_fires_df = pd.read_csv('inpe_brazilian_amazon_fires_1999_2019.csv')\n",
    "amazon_fires_df"
   ],
   "execution_count": null,
   "outputs": []
  },
  {
   "cell_type": "code",
   "metadata": {
    "colab": {
     "base_uri": "https://localhost:8080/"
    },
    "id": "VI1oH2EdUyCU",
    "executionInfo": {
     "status": "ok",
     "timestamp": 1624409064088,
     "user_tz": 180,
     "elapsed": 400,
     "user": {
      "displayName": "Lorena Leão",
      "photoUrl": "https://lh3.googleusercontent.com/a-/AOh14Gja2BMOdqMKMdOxT0E9KyHFC0f0K3wC17oLTkleKw=s64",
      "userId": "04396726281531871123"
     }
    },
    "outputId": "e35aba35-0abc-49a6-8c9e-4796c46eaf68"
   },
   "source": [
    "amazon_fires_df.dtypes"
   ],
   "execution_count": null,
   "outputs": []
  },
  {
   "cell_type": "code",
   "metadata": {
    "colab": {
     "base_uri": "https://localhost:8080/"
    },
    "id": "y_-Fb3GEVGED",
    "executionInfo": {
     "status": "ok",
     "timestamp": 1624409224791,
     "user_tz": 180,
     "elapsed": 398,
     "user": {
      "displayName": "Lorena Leão",
      "photoUrl": "https://lh3.googleusercontent.com/a-/AOh14Gja2BMOdqMKMdOxT0E9KyHFC0f0K3wC17oLTkleKw=s64",
      "userId": "04396726281531871123"
     }
    },
    "outputId": "2caa5607-92a4-4a78-e630-1f9f0a27a812"
   },
   "source": [
    "amazon_fires_df['year'].value_counts()"
   ],
   "execution_count": null,
   "outputs": []
  },
  {
   "cell_type": "code",
   "metadata": {
    "colab": {
     "base_uri": "https://localhost:8080/"
    },
    "id": "f4xNJ548VPzl",
    "executionInfo": {
     "status": "ok",
     "timestamp": 1624409189710,
     "user_tz": 180,
     "elapsed": 383,
     "user": {
      "displayName": "Lorena Leão",
      "photoUrl": "https://lh3.googleusercontent.com/a-/AOh14Gja2BMOdqMKMdOxT0E9KyHFC0f0K3wC17oLTkleKw=s64",
      "userId": "04396726281531871123"
     }
    },
    "outputId": "e0271acb-236f-49cc-8ac4-e948f2d63058"
   },
   "source": [
    "amazon_fires_df['month'].value_counts()"
   ],
   "execution_count": null,
   "outputs": []
  },
  {
   "cell_type": "code",
   "metadata": {
    "colab": {
     "base_uri": "https://localhost:8080/"
    },
    "id": "KMigIzpAVkaF",
    "executionInfo": {
     "status": "ok",
     "timestamp": 1624409284559,
     "user_tz": 180,
     "elapsed": 385,
     "user": {
      "displayName": "Lorena Leão",
      "photoUrl": "https://lh3.googleusercontent.com/a-/AOh14Gja2BMOdqMKMdOxT0E9KyHFC0f0K3wC17oLTkleKw=s64",
      "userId": "04396726281531871123"
     }
    },
    "outputId": "6480915c-240c-4906-8181-caec5a34cff6"
   },
   "source": [
    "amazon_fires_df['state'].value_counts()"
   ],
   "execution_count": null,
   "outputs": []
  },
  {
   "cell_type": "code",
   "metadata": {
    "colab": {
     "base_uri": "https://localhost:8080/"
    },
    "id": "ouM8qZ1GVs4-",
    "executionInfo": {
     "status": "ok",
     "timestamp": 1624409306512,
     "user_tz": 180,
     "elapsed": 417,
     "user": {
      "displayName": "Lorena Leão",
      "photoUrl": "https://lh3.googleusercontent.com/a-/AOh14Gja2BMOdqMKMdOxT0E9KyHFC0f0K3wC17oLTkleKw=s64",
      "userId": "04396726281531871123"
     }
    },
    "outputId": "ef7046c1-87bf-4c3e-805b-565a924393f0"
   },
   "source": [
    "amazon_fires_df['latitude'].value_counts()"
   ],
   "execution_count": null,
   "outputs": []
  },
  {
   "cell_type": "code",
   "metadata": {
    "colab": {
     "base_uri": "https://localhost:8080/"
    },
    "id": "UH5Ev6dCVyDG",
    "executionInfo": {
     "status": "ok",
     "timestamp": 1624409325999,
     "user_tz": 180,
     "elapsed": 404,
     "user": {
      "displayName": "Lorena Leão",
      "photoUrl": "https://lh3.googleusercontent.com/a-/AOh14Gja2BMOdqMKMdOxT0E9KyHFC0f0K3wC17oLTkleKw=s64",
      "userId": "04396726281531871123"
     }
    },
    "outputId": "78fa50a3-33df-4a06-8bf6-e5c32c1d868c"
   },
   "source": [
    "amazon_fires_df['longitude'].value_counts()"
   ],
   "execution_count": null,
   "outputs": []
  },
  {
   "cell_type": "code",
   "metadata": {
    "colab": {
     "base_uri": "https://localhost:8080/"
    },
    "id": "0Nnx55AbV6Fl",
    "executionInfo": {
     "status": "ok",
     "timestamp": 1624409364690,
     "user_tz": 180,
     "elapsed": 385,
     "user": {
      "displayName": "Lorena Leão",
      "photoUrl": "https://lh3.googleusercontent.com/a-/AOh14Gja2BMOdqMKMdOxT0E9KyHFC0f0K3wC17oLTkleKw=s64",
      "userId": "04396726281531871123"
     }
    },
    "outputId": "73a0fda4-0d67-4f23-8766-1ae2d278177b"
   },
   "source": [
    "amazon_fires_df['firespots'].value_counts()"
   ],
   "execution_count": null,
   "outputs": []
  },
  {
   "cell_type": "code",
   "metadata": {
    "colab": {
     "base_uri": "https://localhost:8080/",
     "height": 204
    },
    "id": "qc9LBkrSWurC",
    "executionInfo": {
     "status": "ok",
     "timestamp": 1624409572041,
     "user_tz": 180,
     "elapsed": 748,
     "user": {
      "displayName": "Lorena Leão",
      "photoUrl": "https://lh3.googleusercontent.com/a-/AOh14Gja2BMOdqMKMdOxT0E9KyHFC0f0K3wC17oLTkleKw=s64",
      "userId": "04396726281531871123"
     }
    },
    "outputId": "981a0b92-d3d8-4b2e-9e70-e73191f158d6"
   },
   "source": [
    "amazon_fires_df.head()"
   ],
   "execution_count": null,
   "outputs": []
  },
  {
   "cell_type": "markdown",
   "metadata": {
    "id": "FkluA8z6Wqj2"
   },
   "source": [
    "##### **Revised Data Dictionary**\n",
    "\n",
    "| Variable  | Description                                                | Data Type |\n",
    "| --------- | ---------------------------------------------------------- | --------- |\n",
    "| year | Year of occurrence    | Ordinal |\n",
    "| month | Month of occurrence  | Ordinal |\n",
    "| state | State of occurrence  | Nominal |\n",
    "| latitude | Average latitude of all occurrences in this month, year and state  | Numerical |\n",
    "| longitude | Average longitude of all occurrences in this month, year and state | Numerical |\n",
    "| firespots | Number of forest fire outbreaks | Numerical |"
   ]
  },
  {
   "cell_type": "code",
   "metadata": {
    "colab": {
     "base_uri": "https://localhost:8080/",
     "height": 545
    },
    "id": "vXXezjLsSUYV",
    "executionInfo": {
     "status": "ok",
     "timestamp": 1624408438107,
     "user_tz": 180,
     "elapsed": 783,
     "user": {
      "displayName": "Lorena Leão",
      "photoUrl": "https://lh3.googleusercontent.com/a-/AOh14Gja2BMOdqMKMdOxT0E9KyHFC0f0K3wC17oLTkleKw=s64",
      "userId": "04396726281531871123"
     }
    },
    "outputId": "07783698-0ac6-4a82-ed8d-2a33e3265ea3"
   },
   "source": [
    "def_area_df = pd.read_csv('def_area_2004_2019.csv')\n",
    "def_area_df"
   ],
   "execution_count": null,
   "outputs": []
  },
  {
   "cell_type": "code",
   "metadata": {
    "colab": {
     "base_uri": "https://localhost:8080/"
    },
    "id": "1DbWZPkrSgRI",
    "executionInfo": {
     "status": "ok",
     "timestamp": 1624408470700,
     "user_tz": 180,
     "elapsed": 668,
     "user": {
      "displayName": "Lorena Leão",
      "photoUrl": "https://lh3.googleusercontent.com/a-/AOh14Gja2BMOdqMKMdOxT0E9KyHFC0f0K3wC17oLTkleKw=s64",
      "userId": "04396726281531871123"
     }
    },
    "outputId": "842c7b99-f1dd-4aff-cedc-d720c71af041"
   },
   "source": [
    "def_area_df.isnull().sum()"
   ],
   "execution_count": null,
   "outputs": []
  },
  {
   "cell_type": "markdown",
   "metadata": {
    "id": "G-abmF6aYdF-"
   },
   "source": [
    "##### **Revised Data Dictionary**\n",
    "\n",
    "| Variable  | Description                                                | Data Type |\n",
    "| --------- | ---------------------------------------------------------- | --------- |\n",
    "| Ano/Estados | Year of occurrence    | Ordinal |\n",
    "| month | Month of occurrence  | Ordinal |\n",
    "| state | State of occurrence  | Nominal |\n",
    "| latitude | Average latitude of all occurrences in this month, year and state  | Numerical |\n",
    "| longitude | Average longitude of all occurrences in this month, year and state | Numerical |\n",
    "| firespots | Number of forest fire outbreaks | Numerical |"
   ]
  }
 ]
}