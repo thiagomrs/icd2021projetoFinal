{
 "nbformat": 4,
 "nbformat_minor": 0,
 "metadata": {
  "colab": {
   "name": "DesmatamentoDaAmazônia.ipynb",
   "provenance": [],
   "toc_visible": true,
   "mount_file_id": "1qWl8lgl__Z7IrsLSg10RTFXU_0JYvIRv",
   "authorship_tag": "ABX9TyNYrlQ/1Iv1UeAZlFZbP+X4"
  },
  "kernelspec": {
   "name": "python3",
   "language": "python",
   "display_name": "Python 3"
  },
  "language_info": {
   "name": "python"
  }
 },
 "cells": [
  {
   "cell_type": "markdown",
   "metadata": {
    "id": "5gqZpotbKQ86"
   },
   "source": [
    "# Desmatamento das Áreas de Floresta do Brasil \n",
    "\n",
    "---\n",
    "\n"
   ]
  },
  {
   "cell_type": "markdown",
   "metadata": {
    "id": "K-cvxcIRJs1k"
   },
   "source": [
    "\n",
    "## 1st Dataset\n",
    "\n",
    "https://www.kaggle.com/mbogernetto/brazilian-amazon-rainforest-degradation\n",
    "\n",
    "### Context\n",
    "\n",
    "The Amazon rainforest is a moist broadleaf tropical rainforest in the Amazon biome that covers territory belonging to nine nations. The majority of the forest is contained within Brazil, with 60% of the rainforest, followed by Peru with 13%, Colombia with 10%, and with minor amounts in Venezuela, Ecuador, Bolivia, Guyana, Suriname and French Guiana.\n",
    "\n",
    "The region provides important benefits to communities living near and far. Nearly 500 indigenous communities call the Amazon rainforest home. It’s a highly biodiverse ecosystem, home to untold species of plants and animals. The rainforest can create its own weather and influence climates around the world. Unfortunately, the fragile ecosystem faces the constant threat of deforestation and fires (for natural or anthropogenic causes).\n",
    "\n",
    "Deforestation happens for many reasons, such as illegal agriculture, natural disasters, urbanization and mining. There are several ways to remove forests - burning and logging are two methods. Although deforestation is happening all over the world today, it is an especially critical issue in the Amazon rainforests, as the only large forest still standing in the world. There, the species of plants and animals they harbor have been disappearing at an alarming rate.\n",
    "\n",
    "### Content\n",
    "\n",
    "This dataset refers to 3 files:\n",
    "\n",
    "**'inpebrazilianamazonfires1999_2019' :** amount of fire outbreaks in Brazilian Amazon by state, month and year, from 1999 to 2019. The original data are public and were extracted from INPE website on December 13th 2019, always from the filtering for the reference salellite and aggregated using Postgres SQL so that you could work with lighter files.\n",
    "Program: BDQ (Banco de Dados de Queimadas, or Fires Database).\n",
    "Methodology: detects fire outbreaks through satellite images, updated every 3 hours.\n",
    "\n",
    "**'defarea2004_2019' :** deforestation area (km²) by year and state, from 2004 to 2019. The data are public and were extracted from INPE website on December 16th 2019. It was already aggregated, so, no data process was made.\n",
    "Program: PRODES (Programa de Monitoramento da Floresta Amazônica Brasileira por Satélite, or Brazilian Amazon Rainforest Monitoring Program by Satellite).\n",
    "Methodology: maps primary forest loss using satellite imagery, with 20 to 30 meters of spatial resolution and 16-day revisit rate, in a combination that seeks to minimize the problem of cloud cover and ensure interoperability criteria.\n",
    "\n",
    "**'elninolanina1999_2019' :** Data about start year, end year, and severity of 2 of the most important climatic phenomena.\n",
    "Data were extracted from Golden Gate Weather Services on December 20th 2019 and were unpivoted.\n",
    "\n",
    "\n",
    "### Inspiration\n",
    "\n",
    "The importance of the Amazon rainforest for the balance of the world environment is unquestionable. Is Amazon Degradation Increasing?"
   ]
  },
  {
   "cell_type": "markdown",
   "metadata": {
    "id": "9ywL7ec2R6V0"
   },
   "source": [
    "## Python Environment Setup"
   ]
  },
  {
   "cell_type": "code",
   "metadata": {
    "id": "rG-S3RUxR0SA",
    "executionInfo": {
     "status": "ok",
     "timestamp": 1624408321106,
     "user_tz": 180,
     "elapsed": 892,
     "user": {
      "displayName": "Lorena Leão",
      "photoUrl": "https://lh3.googleusercontent.com/a-/AOh14Gja2BMOdqMKMdOxT0E9KyHFC0f0K3wC17oLTkleKw=s64",
      "userId": "04396726281531871123"
     }
    }
   },
   "source": [
    "import pandas as pd"
   ],
   "execution_count": 38,
   "outputs": []
  },
  {
   "cell_type": "markdown",
   "metadata": {
    "id": "2GWZ8A3DRSRl"
   },
   "source": [
    "### Checking the files sizes"
   ]
  },
  {
   "cell_type": "code",
   "metadata": {
    "colab": {
     "base_uri": "https://localhost:8080/"
    },
    "id": "okIXPBUcONIV",
    "executionInfo": {
     "status": "ok",
     "timestamp": 1624407609100,
     "user_tz": 180,
     "elapsed": 804,
     "user": {
      "displayName": "Lorena Leão",
      "photoUrl": "https://lh3.googleusercontent.com/a-/AOh14Gja2BMOdqMKMdOxT0E9KyHFC0f0K3wC17oLTkleKw=s64",
      "userId": "04396726281531871123"
     }
    },
    "outputId": "dbf4cabb-96d5-45f0-f6f9-351533c39d9c",
    "pycharm": {
     "name": "#%%\n"
    }
   },
   "source": [
    "%%bash\n",
    "echo $(pwd) # present working directory\n",
    "ls -l -h datasets/brazilian-amazon-rainforest-degradation/*"
   ],
   "execution_count": 29,
   "outputs": [
    {
     "name": "stdout",
     "output_type": "stream",
     "text": [
      "/mnt/host/c/Users/loren/personal-workspace/icd2021projetoFinal\n",
      "-rwxrwxrwx    1 root     root         829 Jul 20 00:29 datasets/brazilian-amazon-rainforest-degradation/def_area_2004_2019.csv\n",
      "-rwxrwxrwx    1 root     root         453 Jul 20 00:29 datasets/brazilian-amazon-rainforest-degradation/el_nino_la_nina_1999_2019.csv\n",
      "-rwxrwxrwx    1 root     root      150.7K Jul 20 00:29 datasets/brazilian-amazon-rainforest-degradation/inpe_brazilian_amazon_fires_1999_2019.csv\n"
     ]
    }
   ]
  },
  {
   "cell_type": "markdown",
   "metadata": {
    "id": "OA4vXsqTRYAR"
   },
   "source": [
    "### Checking the files structures"
   ]
  },
  {
   "cell_type": "markdown",
   "metadata": {
    "id": "GdSQfVwLTWD1"
   },
   "source": [
    "#### Amazon Fires Dataset\n",
    "\n",
    "##### About this file\n",
    "Amount of fire outbreaks in Brazilian Amazon by state, month and year, from 1999 to 2019. The original data are public and were extracted from INPE website on December 13th 2019, always from the filtering for the reference salellite and aggregated using Postgres SQL so that you could work with lighter files. Program: BDQ (Banco de Dados de Queimadas, or Fires Database). Methodology: detects fire outbreaks through satellite images, updated every 3 hours.\n",
    "\n",
    "Fonte: https://www.kaggle.com/mbogernetto/brazilian-amazon-rainforest-degradation?select=inpe_brazilian_amazon_fires_1999_2019.csv"
   ]
  },
  {
   "cell_type": "code",
   "metadata": {
    "colab": {
     "base_uri": "https://localhost:8080/"
    },
    "id": "HJ8NdYojPmcv",
    "executionInfo": {
     "status": "ok",
     "timestamp": 1624407717488,
     "user_tz": 180,
     "elapsed": 1305,
     "user": {
      "displayName": "Lorena Leão",
      "photoUrl": "https://lh3.googleusercontent.com/a-/AOh14Gja2BMOdqMKMdOxT0E9KyHFC0f0K3wC17oLTkleKw=s64",
      "userId": "04396726281531871123"
     }
    },
    "outputId": "d4279a06-7757-42d7-b8d9-1cc1b188f10a"
   },
   "source": [
    "%%bash\n",
    "head datasets/brazilian-amazon-rainforest-degradation/inpe_brazilian_amazon_fires_1999_2019.csv"
   ],
   "execution_count": 30,
   "outputs": [
    {
     "name": "stdout",
     "output_type": "stream",
     "text": [
      "\"year\",\"month\",\"state\",\"latitude\",\"longitude\",\"firespots\"\r\n",
      "\"1999\",\"1\",\"AMAZONAS\",\"-2.3711133333333333\",\"-59.8999333333333333\",\"3\"\r\n",
      "\"1999\",\"1\",\"MARANHAO\",\"-2.2573947222222222\",\"-45.4878305555555556\",\"36\"\r\n",
      "\"1999\",\"1\",\"MATO GROSSO\",\"-12.6606333333333333\",\"-55.0579888888888889\",\"18\"\r\n",
      "\"1999\",\"1\",\"PARA\",\"-2.4748204597701149\",\"-48.5469666666666667\",\"87\"\r\n",
      "\"1999\",\"1\",\"RONDONIA\",\"-12.8617000000000000\",\"-60.5131000000000000\",\"1\"\r\n",
      "\"1999\",\"1\",\"RORAIMA\",\"3.4032246666666667\",\"-60.6228533333333333\",\"15\"\r\n",
      "\"1999\",\"2\",\"AMAPA\",\"-0.15500000000000000000\",\"-52.6831000000000000\",\"1\"\r\n",
      "\"1999\",\"2\",\"AMAZONAS\",\"-2.7631669767441860\",\"-63.4297813953488372\",\"43\"\r\n",
      "\"1999\",\"2\",\"MATO GROSSO\",\"-12.6199875000000000\",\"-55.3753625000000000\",\"8\"\r\n"
     ]
    }
   ]
  },
  {
   "cell_type": "code",
   "metadata": {
    "colab": {
     "base_uri": "https://localhost:8080/"
    },
    "id": "3xltJyuRQbJY",
    "executionInfo": {
     "status": "ok",
     "timestamp": 1624407963233,
     "user_tz": 180,
     "elapsed": 414,
     "user": {
      "displayName": "Lorena Leão",
      "photoUrl": "https://lh3.googleusercontent.com/a-/AOh14Gja2BMOdqMKMdOxT0E9KyHFC0f0K3wC17oLTkleKw=s64",
      "userId": "04396726281531871123"
     }
    },
    "outputId": "0187f0f7-ae19-489c-8c92-5a993f78ea28"
   },
   "source": [
    "%%bash\n",
    "tail datasets/brazilian-amazon-rainforest-degradation/inpe_brazilian_amazon_fires_1999_2019.csv"
   ],
   "execution_count": 31,
   "outputs": [
    {
     "name": "stdout",
     "output_type": "stream",
     "text": [
      "\"2019\",\"11\",\"TOCANTINS\",\"-6.3220909090909091\",\"-48.4430227272727273\",\"44\"\r\n",
      "\"2019\",\"12\",\"ACRE\",\"-10.1630000000000000\",\"-68.0680000000000000\",\"1\"\r\n",
      "\"2019\",\"12\",\"AMAPA\",\"0.96425806451612903226\",\"-51.0787258064516129\",\"62\"\r\n",
      "\"2019\",\"12\",\"AMAZONAS\",\"-4.1361447368421053\",\"-60.4023618421052632\",\"152\"\r\n",
      "\"2019\",\"12\",\"MARANHAO\",\"-3.3072914171656687\",\"-45.8331417165668663\",\"501\"\r\n",
      "\"2019\",\"12\",\"MATO GROSSO\",\"-12.1383851351351351\",\"-56.0662972972972973\",\"148\"\r\n",
      "\"2019\",\"12\",\"PARA\",\"-2.9767273437500000\",\"-50.9093164062500000\",\"1280\"\r\n",
      "\"2019\",\"12\",\"RONDONIA\",\"-10.8092619047619048\",\"-62.8904523809523810\",\"42\"\r\n",
      "\"2019\",\"12\",\"RORAIMA\",\"2.8566666666666667\",\"-60.4319629629629630\",\"27\"\r\n",
      "\"2019\",\"12\",\"TOCANTINS\",\"-6.7693809523809524\",\"-48.4756666666666667\",\"21\"\r\n"
     ]
    }
   ]
  },
  {
   "cell_type": "markdown",
   "metadata": {
    "id": "xadkO6D9Qc0c"
   },
   "source": [
    "##### **Data Dictionary**\n",
    "**year** Year of occurrence\n",
    "\n",
    "**month** Month of occurrence\n",
    "\n",
    "**state** State of occurrence\n",
    "\n",
    "**latitude** Average latitude of all occurrences in this month, year and state\n",
    "\n",
    "**longitude** Average longitude of all occurrences in this month, year and state\n",
    "\n",
    "**firespots** Number of forest fire outbreaks"
   ]
  },
  {
   "cell_type": "markdown",
   "metadata": {
    "id": "ThSZNp3CTje7"
   },
   "source": [
    "#### Deforestation Area Dataset\n",
    "\n",
    "##### About this file\n",
    "Deforestation area (km²) by year and state, from 2004 to 2019. The data are public and were extracted from INPE website on December 16th 2019. It was already aggregated, so, no data process was made. Program: PRODES (Programa de Monitoramento da Floresta Amazônica Brasileira por Satélite, or Brazilian Amazon Rainforest Monitoring Program by Satellite). Methodology: maps primary forest loss using satellite imagery, with 20 to 30 meters of spatial resolution and 16-day revisit rate, in a combination that seeks to minimize the problem of cloud cover and ensure interoperability criteria.\n",
    "\n",
    "Fonte: https://www.kaggle.com/mbogernetto/brazilian-amazon-rainforest-degradation?select=def_area_2004_2019.csv"
   ]
  },
  {
   "cell_type": "code",
   "metadata": {
    "colab": {
     "base_uri": "https://localhost:8080/"
    },
    "id": "F7VRxeVoQveC",
    "executionInfo": {
     "status": "ok",
     "timestamp": 1624408014127,
     "user_tz": 180,
     "elapsed": 966,
     "user": {
      "displayName": "Lorena Leão",
      "photoUrl": "https://lh3.googleusercontent.com/a-/AOh14Gja2BMOdqMKMdOxT0E9KyHFC0f0K3wC17oLTkleKw=s64",
      "userId": "04396726281531871123"
     }
    },
    "outputId": "8ea2c490-25e0-4048-9afe-66d3959e18d8"
   },
   "source": [
    "%%bash\n",
    "head datasets/brazilian-amazon-rainforest-degradation/def_area_2004_2019.csv"
   ],
   "execution_count": 33,
   "outputs": [
    {
     "name": "stdout",
     "output_type": "stream",
     "text": [
      "ï»¿Ano/Estados,AC,AM,AP,MA,MT,PA,RO,RR,TO,AMZ LEGAL\r\n",
      "2004,728,1232,46,755,11814,8870,3858,311,158,27772\r\n",
      "2005,592,775,33,922,7145,5899,3244,133,271,19014\r\n",
      "2006,398,788,30,674,4333,5659,2049,231,124,14286\r\n",
      "2007,184,610,39,631,2678,5526,1611,309,63,11651\r\n",
      "2008,254,604,100,1271,3258,5607,1136,574,107,12911\r\n",
      "2009,167,405,70,828,1049,4281,482,121,61,7464\r\n",
      "2010,259,595,53,712,871,3770,435,256,49,7000\r\n",
      "2011,280,502,66,396,1120,3008,865,141,40,6418\r\n",
      "2012,305,523,27,269,757,1741,773,124,52,4571\r\n"
     ]
    }
   ]
  },
  {
   "cell_type": "code",
   "metadata": {
    "colab": {
     "base_uri": "https://localhost:8080/"
    },
    "id": "1Cs98msyQ001",
    "executionInfo": {
     "status": "ok",
     "timestamp": 1624408025148,
     "user_tz": 180,
     "elapsed": 394,
     "user": {
      "displayName": "Lorena Leão",
      "photoUrl": "https://lh3.googleusercontent.com/a-/AOh14Gja2BMOdqMKMdOxT0E9KyHFC0f0K3wC17oLTkleKw=s64",
      "userId": "04396726281531871123"
     }
    },
    "outputId": "ae4ab6ef-35d5-469e-c0ee-23f7ba372ea5"
   },
   "source": [
    "%%bash\n",
    "tail datasets/brazilian-amazon-rainforest-degradation/def_area_2004_2019.csv"
   ],
   "execution_count": 34,
   "outputs": [
    {
     "name": "stdout",
     "output_type": "stream",
     "text": [
      "2010,259,595,53,712,871,3770,435,256,49,7000\r\n",
      "2011,280,502,66,396,1120,3008,865,141,40,6418\r\n",
      "2012,305,523,27,269,757,1741,773,124,52,4571\r\n",
      "2013,221,583,23,403,1139,2346,932,170,74,5891\r\n",
      "2014,309,500,31,257,1075,1887,684,219,50,5012\r\n",
      "2015,264,712,25,209,1601,2153,1030,156,57,6207\r\n",
      "2016,372,1129,17,258,1489,2992,1376,202,58,7893\r\n",
      "2017,257,1001,24,265,1561,2433,1243,132,31,6947\r\n",
      "2018,444,1045,24,253,1490,2744,1316,195,25,7536\r\n",
      "2019,688,1421,8,215,1685,3862,1245,617,21,9762\r\n"
     ]
    }
   ]
  },
  {
   "cell_type": "markdown",
   "metadata": {
    "id": "TGorykP9TxuH"
   },
   "source": [
    "##### **Data Dictionary**\n",
    "\n",
    "**Ano/Estados** Year of occurrence\n",
    "\n",
    "**AC** Deforested area in Acre state (km²)\n",
    "\n",
    "**AM** Deforested area in Amazonas state (km²)\n",
    "\n",
    "**AP** Deforested area in Amapa state (km²)\n",
    "\n",
    "**MA** Deforested area in Maranhao state (km²)\n",
    "\n",
    "**MT** Deforested area in Mato Grosso state (km²)\n",
    "\n",
    "**PA** Deforested area in Para state (km²)\n",
    "\n",
    "**RO** Deforested area in Rondonia state (km²)\n",
    "\n",
    "**RR** Deforested area in Roraima state (km²)\n",
    "\n",
    "**TO** Deforested area in Tocantins state (km²)\n",
    "\n",
    "**AMZ LEGAL** (No description provided.)"
   ]
  },
  {
   "cell_type": "markdown",
   "metadata": {
    "id": "ItOWuU6sSG1R"
   },
   "source": [
    "## Creating DataFrames"
   ]
  },
  {
   "cell_type": "markdown",
   "source": [
    "### Amazon Fires Dataframe"
   ],
   "metadata": {
    "collapsed": false
   }
  },
  {
   "cell_type": "code",
   "metadata": {
    "colab": {
     "base_uri": "https://localhost:8080/",
     "height": 419
    },
    "id": "kkf5wHZtSBY2",
    "executionInfo": {
     "status": "ok",
     "timestamp": 1624408399961,
     "user_tz": 180,
     "elapsed": 792,
     "user": {
      "displayName": "Lorena Leão",
      "photoUrl": "https://lh3.googleusercontent.com/a-/AOh14Gja2BMOdqMKMdOxT0E9KyHFC0f0K3wC17oLTkleKw=s64",
      "userId": "04396726281531871123"
     }
    },
    "outputId": "0da0c46c-8821-4c43-d9ce-847b56d173d1"
   },
   "source": [
    "amazon_fires_df = pd.read_csv('datasets/brazilian-amazon-rainforest-degradation/inpe_brazilian_amazon_fires_1999_2019.csv')\n",
    "amazon_fires_df"
   ],
   "execution_count": 39,
   "outputs": [
    {
     "data": {
      "text/plain": "      year  month        state   latitude  longitude  firespots\n0     1999      1     AMAZONAS  -2.371113 -59.899933          3\n1     1999      1     MARANHAO  -2.257395 -45.487831         36\n2     1999      1  MATO GROSSO -12.660633 -55.057989         18\n3     1999      1         PARA  -2.474820 -48.546967         87\n4     1999      1     RONDONIA -12.861700 -60.513100          1\n...    ...    ...          ...        ...        ...        ...\n2099  2019     12  MATO GROSSO -12.138385 -56.066297        148\n2100  2019     12         PARA  -2.976727 -50.909316       1280\n2101  2019     12     RONDONIA -10.809262 -62.890452         42\n2102  2019     12      RORAIMA   2.856667 -60.431963         27\n2103  2019     12    TOCANTINS  -6.769381 -48.475667         21\n\n[2104 rows x 6 columns]",
      "text/html": "<div>\n<style scoped>\n    .dataframe tbody tr th:only-of-type {\n        vertical-align: middle;\n    }\n\n    .dataframe tbody tr th {\n        vertical-align: top;\n    }\n\n    .dataframe thead th {\n        text-align: right;\n    }\n</style>\n<table border=\"1\" class=\"dataframe\">\n  <thead>\n    <tr style=\"text-align: right;\">\n      <th></th>\n      <th>year</th>\n      <th>month</th>\n      <th>state</th>\n      <th>latitude</th>\n      <th>longitude</th>\n      <th>firespots</th>\n    </tr>\n  </thead>\n  <tbody>\n    <tr>\n      <th>0</th>\n      <td>1999</td>\n      <td>1</td>\n      <td>AMAZONAS</td>\n      <td>-2.371113</td>\n      <td>-59.899933</td>\n      <td>3</td>\n    </tr>\n    <tr>\n      <th>1</th>\n      <td>1999</td>\n      <td>1</td>\n      <td>MARANHAO</td>\n      <td>-2.257395</td>\n      <td>-45.487831</td>\n      <td>36</td>\n    </tr>\n    <tr>\n      <th>2</th>\n      <td>1999</td>\n      <td>1</td>\n      <td>MATO GROSSO</td>\n      <td>-12.660633</td>\n      <td>-55.057989</td>\n      <td>18</td>\n    </tr>\n    <tr>\n      <th>3</th>\n      <td>1999</td>\n      <td>1</td>\n      <td>PARA</td>\n      <td>-2.474820</td>\n      <td>-48.546967</td>\n      <td>87</td>\n    </tr>\n    <tr>\n      <th>4</th>\n      <td>1999</td>\n      <td>1</td>\n      <td>RONDONIA</td>\n      <td>-12.861700</td>\n      <td>-60.513100</td>\n      <td>1</td>\n    </tr>\n    <tr>\n      <th>...</th>\n      <td>...</td>\n      <td>...</td>\n      <td>...</td>\n      <td>...</td>\n      <td>...</td>\n      <td>...</td>\n    </tr>\n    <tr>\n      <th>2099</th>\n      <td>2019</td>\n      <td>12</td>\n      <td>MATO GROSSO</td>\n      <td>-12.138385</td>\n      <td>-56.066297</td>\n      <td>148</td>\n    </tr>\n    <tr>\n      <th>2100</th>\n      <td>2019</td>\n      <td>12</td>\n      <td>PARA</td>\n      <td>-2.976727</td>\n      <td>-50.909316</td>\n      <td>1280</td>\n    </tr>\n    <tr>\n      <th>2101</th>\n      <td>2019</td>\n      <td>12</td>\n      <td>RONDONIA</td>\n      <td>-10.809262</td>\n      <td>-62.890452</td>\n      <td>42</td>\n    </tr>\n    <tr>\n      <th>2102</th>\n      <td>2019</td>\n      <td>12</td>\n      <td>RORAIMA</td>\n      <td>2.856667</td>\n      <td>-60.431963</td>\n      <td>27</td>\n    </tr>\n    <tr>\n      <th>2103</th>\n      <td>2019</td>\n      <td>12</td>\n      <td>TOCANTINS</td>\n      <td>-6.769381</td>\n      <td>-48.475667</td>\n      <td>21</td>\n    </tr>\n  </tbody>\n</table>\n<p>2104 rows × 6 columns</p>\n</div>"
     },
     "execution_count": 39,
     "metadata": {},
     "output_type": "execute_result"
    }
   ]
  },
  {
   "cell_type": "code",
   "metadata": {
    "colab": {
     "base_uri": "https://localhost:8080/"
    },
    "id": "VI1oH2EdUyCU",
    "executionInfo": {
     "status": "ok",
     "timestamp": 1624409064088,
     "user_tz": 180,
     "elapsed": 400,
     "user": {
      "displayName": "Lorena Leão",
      "photoUrl": "https://lh3.googleusercontent.com/a-/AOh14Gja2BMOdqMKMdOxT0E9KyHFC0f0K3wC17oLTkleKw=s64",
      "userId": "04396726281531871123"
     }
    },
    "outputId": "e35aba35-0abc-49a6-8c9e-4796c46eaf68"
   },
   "source": [
    "amazon_fires_df.dtypes"
   ],
   "execution_count": 40,
   "outputs": [
    {
     "data": {
      "text/plain": "year           int64\nmonth          int64\nstate         object\nlatitude     float64\nlongitude    float64\nfirespots      int64\ndtype: object"
     },
     "execution_count": 40,
     "metadata": {},
     "output_type": "execute_result"
    }
   ]
  },
  {
   "cell_type": "code",
   "metadata": {
    "colab": {
     "base_uri": "https://localhost:8080/"
    },
    "id": "y_-Fb3GEVGED",
    "executionInfo": {
     "status": "ok",
     "timestamp": 1624409224791,
     "user_tz": 180,
     "elapsed": 398,
     "user": {
      "displayName": "Lorena Leão",
      "photoUrl": "https://lh3.googleusercontent.com/a-/AOh14Gja2BMOdqMKMdOxT0E9KyHFC0f0K3wC17oLTkleKw=s64",
      "userId": "04396726281531871123"
     }
    },
    "outputId": "2caa5607-92a4-4a78-e630-1f9f0a27a812"
   },
   "source": [
    "amazon_fires_df['year'].value_counts()"
   ],
   "execution_count": 41,
   "outputs": [
    {
     "data": {
      "text/plain": "2018    105\n2016    105\n2015    105\n2004    104\n2013    104\n2012    104\n2007    104\n2009    103\n2010    103\n2019    103\n2005    103\n2014    102\n2003    102\n2017    102\n2008    101\n2011    101\n2006    100\n2002     97\n2000     87\n1999     85\n2001     84\nName: year, dtype: int64"
     },
     "execution_count": 41,
     "metadata": {},
     "output_type": "execute_result"
    }
   ]
  },
  {
   "cell_type": "code",
   "metadata": {
    "colab": {
     "base_uri": "https://localhost:8080/"
    },
    "id": "f4xNJ548VPzl",
    "executionInfo": {
     "status": "ok",
     "timestamp": 1624409189710,
     "user_tz": 180,
     "elapsed": 383,
     "user": {
      "displayName": "Lorena Leão",
      "photoUrl": "https://lh3.googleusercontent.com/a-/AOh14Gja2BMOdqMKMdOxT0E9KyHFC0f0K3wC17oLTkleKw=s64",
      "userId": "04396726281531871123"
     }
    },
    "outputId": "e0271acb-236f-49cc-8ac4-e948f2d63058"
   },
   "source": [
    "amazon_fires_df['month'].value_counts()"
   ],
   "execution_count": 42,
   "outputs": [
    {
     "data": {
      "text/plain": "9     189\n10    189\n8     188\n11    188\n7     183\n12    181\n6     177\n1     169\n5     169\n4     160\n2     158\n3     153\nName: month, dtype: int64"
     },
     "execution_count": 42,
     "metadata": {},
     "output_type": "execute_result"
    }
   ]
  },
  {
   "cell_type": "code",
   "metadata": {
    "colab": {
     "base_uri": "https://localhost:8080/"
    },
    "id": "KMigIzpAVkaF",
    "executionInfo": {
     "status": "ok",
     "timestamp": 1624409284559,
     "user_tz": 180,
     "elapsed": 385,
     "user": {
      "displayName": "Lorena Leão",
      "photoUrl": "https://lh3.googleusercontent.com/a-/AOh14Gja2BMOdqMKMdOxT0E9KyHFC0f0K3wC17oLTkleKw=s64",
      "userId": "04396726281531871123"
     }
    },
    "outputId": "6480915c-240c-4906-8181-caec5a34cff6"
   },
   "source": [
    "amazon_fires_df['state'].value_counts()"
   ],
   "execution_count": 43,
   "outputs": [
    {
     "data": {
      "text/plain": "MATO GROSSO    252\nAMAZONAS       250\nPARA           250\nRONDONIA       246\nRORAIMA        243\nMARANHAO       241\nTOCANTINS      221\nACRE           204\nAMAPA          197\nName: state, dtype: int64"
     },
     "execution_count": 43,
     "metadata": {},
     "output_type": "execute_result"
    }
   ]
  },
  {
   "cell_type": "code",
   "metadata": {
    "colab": {
     "base_uri": "https://localhost:8080/"
    },
    "id": "ouM8qZ1GVs4-",
    "executionInfo": {
     "status": "ok",
     "timestamp": 1624409306512,
     "user_tz": 180,
     "elapsed": 417,
     "user": {
      "displayName": "Lorena Leão",
      "photoUrl": "https://lh3.googleusercontent.com/a-/AOh14Gja2BMOdqMKMdOxT0E9KyHFC0f0K3wC17oLTkleKw=s64",
      "userId": "04396726281531871123"
     }
    },
    "outputId": "ef7046c1-87bf-4c3e-805b-565a924393f0"
   },
   "source": [
    "amazon_fires_df['latitude'].value_counts()"
   ],
   "execution_count": 44,
   "outputs": [
    {
     "data": {
      "text/plain": "-7.632000     2\n-0.919000     2\n 1.328000     2\n 0.098250     2\n-2.371113     1\n             ..\n-8.720655     1\n 2.613431     1\n-11.523333    1\n-4.900091     1\n-6.769381     1\nName: latitude, Length: 2100, dtype: int64"
     },
     "execution_count": 44,
     "metadata": {},
     "output_type": "execute_result"
    }
   ]
  },
  {
   "cell_type": "code",
   "metadata": {
    "colab": {
     "base_uri": "https://localhost:8080/"
    },
    "id": "UH5Ev6dCVyDG",
    "executionInfo": {
     "status": "ok",
     "timestamp": 1624409325999,
     "user_tz": 180,
     "elapsed": 404,
     "user": {
      "displayName": "Lorena Leão",
      "photoUrl": "https://lh3.googleusercontent.com/a-/AOh14Gja2BMOdqMKMdOxT0E9KyHFC0f0K3wC17oLTkleKw=s64",
      "userId": "04396726281531871123"
     }
    },
    "outputId": "78fa50a3-33df-4a06-8bf6-e5c32c1d868c"
   },
   "source": [
    "amazon_fires_df['longitude'].value_counts()"
   ],
   "execution_count": 45,
   "outputs": [
    {
     "data": {
      "text/plain": "-48.053000    2\n-48.649000    2\n-59.899933    1\n-60.883675    1\n-52.250000    1\n             ..\n-71.189759    1\n-60.802742    1\n-62.297778    1\n-52.954182    1\n-48.475667    1\nName: longitude, Length: 2102, dtype: int64"
     },
     "execution_count": 45,
     "metadata": {},
     "output_type": "execute_result"
    }
   ]
  },
  {
   "cell_type": "code",
   "metadata": {
    "colab": {
     "base_uri": "https://localhost:8080/"
    },
    "id": "0Nnx55AbV6Fl",
    "executionInfo": {
     "status": "ok",
     "timestamp": 1624409364690,
     "user_tz": 180,
     "elapsed": 385,
     "user": {
      "displayName": "Lorena Leão",
      "photoUrl": "https://lh3.googleusercontent.com/a-/AOh14Gja2BMOdqMKMdOxT0E9KyHFC0f0K3wC17oLTkleKw=s64",
      "userId": "04396726281531871123"
     }
    },
    "outputId": "73a0fda4-0d67-4f23-8766-1ae2d278177b"
   },
   "source": [
    "amazon_fires_df['firespots'].value_counts()"
   ],
   "execution_count": 46,
   "outputs": [
    {
     "data": {
      "text/plain": "1        93\n2        81\n3        49\n4        45\n5        34\n         ..\n14938     1\n190       1\n600       1\n565       1\n1280      1\nName: firespots, Length: 954, dtype: int64"
     },
     "execution_count": 46,
     "metadata": {},
     "output_type": "execute_result"
    }
   ]
  },
  {
   "cell_type": "code",
   "metadata": {
    "colab": {
     "base_uri": "https://localhost:8080/",
     "height": 204
    },
    "id": "qc9LBkrSWurC",
    "executionInfo": {
     "status": "ok",
     "timestamp": 1624409572041,
     "user_tz": 180,
     "elapsed": 748,
     "user": {
      "displayName": "Lorena Leão",
      "photoUrl": "https://lh3.googleusercontent.com/a-/AOh14Gja2BMOdqMKMdOxT0E9KyHFC0f0K3wC17oLTkleKw=s64",
      "userId": "04396726281531871123"
     }
    },
    "outputId": "981a0b92-d3d8-4b2e-9e70-e73191f158d6"
   },
   "source": [
    "amazon_fires_df.head()"
   ],
   "execution_count": 47,
   "outputs": [
    {
     "data": {
      "text/plain": "   year  month        state   latitude  longitude  firespots\n0  1999      1     AMAZONAS  -2.371113 -59.899933          3\n1  1999      1     MARANHAO  -2.257395 -45.487831         36\n2  1999      1  MATO GROSSO -12.660633 -55.057989         18\n3  1999      1         PARA  -2.474820 -48.546967         87\n4  1999      1     RONDONIA -12.861700 -60.513100          1",
      "text/html": "<div>\n<style scoped>\n    .dataframe tbody tr th:only-of-type {\n        vertical-align: middle;\n    }\n\n    .dataframe tbody tr th {\n        vertical-align: top;\n    }\n\n    .dataframe thead th {\n        text-align: right;\n    }\n</style>\n<table border=\"1\" class=\"dataframe\">\n  <thead>\n    <tr style=\"text-align: right;\">\n      <th></th>\n      <th>year</th>\n      <th>month</th>\n      <th>state</th>\n      <th>latitude</th>\n      <th>longitude</th>\n      <th>firespots</th>\n    </tr>\n  </thead>\n  <tbody>\n    <tr>\n      <th>0</th>\n      <td>1999</td>\n      <td>1</td>\n      <td>AMAZONAS</td>\n      <td>-2.371113</td>\n      <td>-59.899933</td>\n      <td>3</td>\n    </tr>\n    <tr>\n      <th>1</th>\n      <td>1999</td>\n      <td>1</td>\n      <td>MARANHAO</td>\n      <td>-2.257395</td>\n      <td>-45.487831</td>\n      <td>36</td>\n    </tr>\n    <tr>\n      <th>2</th>\n      <td>1999</td>\n      <td>1</td>\n      <td>MATO GROSSO</td>\n      <td>-12.660633</td>\n      <td>-55.057989</td>\n      <td>18</td>\n    </tr>\n    <tr>\n      <th>3</th>\n      <td>1999</td>\n      <td>1</td>\n      <td>PARA</td>\n      <td>-2.474820</td>\n      <td>-48.546967</td>\n      <td>87</td>\n    </tr>\n    <tr>\n      <th>4</th>\n      <td>1999</td>\n      <td>1</td>\n      <td>RONDONIA</td>\n      <td>-12.861700</td>\n      <td>-60.513100</td>\n      <td>1</td>\n    </tr>\n  </tbody>\n</table>\n</div>"
     },
     "execution_count": 47,
     "metadata": {},
     "output_type": "execute_result"
    }
   ]
  },
  {
   "cell_type": "code",
   "execution_count": 52,
   "outputs": [
    {
     "data": {
      "text/plain": "year         0\nmonth        0\nstate        0\nlatitude     0\nlongitude    0\nfirespots    0\ndtype: int64"
     },
     "execution_count": 52,
     "metadata": {},
     "output_type": "execute_result"
    }
   ],
   "source": [
    "amazon_fires_df.isnull().sum()"
   ],
   "metadata": {
    "collapsed": false,
    "pycharm": {
     "name": "#%%\n"
    }
   }
  },
  {
   "cell_type": "markdown",
   "metadata": {
    "id": "FkluA8z6Wqj2"
   },
   "source": [
    "##### **Revised Data Dictionary**\n",
    "\n",
    "| Variable  | Description                                                | Data Type |\n",
    "| --------- | ---------------------------------------------------------- | --------- |\n",
    "| year | Year of occurrence    | Ordinal |\n",
    "| month | Month of occurrence  | Ordinal |\n",
    "| state | State of occurrence  | Nominal |\n",
    "| latitude | Average latitude of all occurrences in this month, year and state  | Numerical |\n",
    "| longitude | Average longitude of all occurrences in this month, year and state | Numerical |\n",
    "| firespots | Number of forest fire outbreaks | Numerical |"
   ]
  },
  {
   "cell_type": "markdown",
   "source": [
    "### Deforestation Area Dataframe"
   ],
   "metadata": {
    "collapsed": false
   }
  },
  {
   "cell_type": "code",
   "metadata": {
    "colab": {
     "base_uri": "https://localhost:8080/",
     "height": 545
    },
    "id": "vXXezjLsSUYV",
    "executionInfo": {
     "status": "ok",
     "timestamp": 1624408438107,
     "user_tz": 180,
     "elapsed": 783,
     "user": {
      "displayName": "Lorena Leão",
      "photoUrl": "https://lh3.googleusercontent.com/a-/AOh14Gja2BMOdqMKMdOxT0E9KyHFC0f0K3wC17oLTkleKw=s64",
      "userId": "04396726281531871123"
     }
    },
    "outputId": "07783698-0ac6-4a82-ed8d-2a33e3265ea3"
   },
   "source": [
    "def_area_df = pd.read_csv('datasets/brazilian-amazon-rainforest-degradation/def_area_2004_2019.csv')\n",
    "def_area_df"
   ],
   "execution_count": 74,
   "outputs": [
    {
     "data": {
      "text/plain": "    Ano/Estados   AC    AM   AP    MA     MT    PA    RO   RR   TO  AMZ LEGAL\n0          2004  728  1232   46   755  11814  8870  3858  311  158      27772\n1          2005  592   775   33   922   7145  5899  3244  133  271      19014\n2          2006  398   788   30   674   4333  5659  2049  231  124      14286\n3          2007  184   610   39   631   2678  5526  1611  309   63      11651\n4          2008  254   604  100  1271   3258  5607  1136  574  107      12911\n5          2009  167   405   70   828   1049  4281   482  121   61       7464\n6          2010  259   595   53   712    871  3770   435  256   49       7000\n7          2011  280   502   66   396   1120  3008   865  141   40       6418\n8          2012  305   523   27   269    757  1741   773  124   52       4571\n9          2013  221   583   23   403   1139  2346   932  170   74       5891\n10         2014  309   500   31   257   1075  1887   684  219   50       5012\n11         2015  264   712   25   209   1601  2153  1030  156   57       6207\n12         2016  372  1129   17   258   1489  2992  1376  202   58       7893\n13         2017  257  1001   24   265   1561  2433  1243  132   31       6947\n14         2018  444  1045   24   253   1490  2744  1316  195   25       7536\n15         2019  688  1421    8   215   1685  3862  1245  617   21       9762",
      "text/html": "<div>\n<style scoped>\n    .dataframe tbody tr th:only-of-type {\n        vertical-align: middle;\n    }\n\n    .dataframe tbody tr th {\n        vertical-align: top;\n    }\n\n    .dataframe thead th {\n        text-align: right;\n    }\n</style>\n<table border=\"1\" class=\"dataframe\">\n  <thead>\n    <tr style=\"text-align: right;\">\n      <th></th>\n      <th>Ano/Estados</th>\n      <th>AC</th>\n      <th>AM</th>\n      <th>AP</th>\n      <th>MA</th>\n      <th>MT</th>\n      <th>PA</th>\n      <th>RO</th>\n      <th>RR</th>\n      <th>TO</th>\n      <th>AMZ LEGAL</th>\n    </tr>\n  </thead>\n  <tbody>\n    <tr>\n      <th>0</th>\n      <td>2004</td>\n      <td>728</td>\n      <td>1232</td>\n      <td>46</td>\n      <td>755</td>\n      <td>11814</td>\n      <td>8870</td>\n      <td>3858</td>\n      <td>311</td>\n      <td>158</td>\n      <td>27772</td>\n    </tr>\n    <tr>\n      <th>1</th>\n      <td>2005</td>\n      <td>592</td>\n      <td>775</td>\n      <td>33</td>\n      <td>922</td>\n      <td>7145</td>\n      <td>5899</td>\n      <td>3244</td>\n      <td>133</td>\n      <td>271</td>\n      <td>19014</td>\n    </tr>\n    <tr>\n      <th>2</th>\n      <td>2006</td>\n      <td>398</td>\n      <td>788</td>\n      <td>30</td>\n      <td>674</td>\n      <td>4333</td>\n      <td>5659</td>\n      <td>2049</td>\n      <td>231</td>\n      <td>124</td>\n      <td>14286</td>\n    </tr>\n    <tr>\n      <th>3</th>\n      <td>2007</td>\n      <td>184</td>\n      <td>610</td>\n      <td>39</td>\n      <td>631</td>\n      <td>2678</td>\n      <td>5526</td>\n      <td>1611</td>\n      <td>309</td>\n      <td>63</td>\n      <td>11651</td>\n    </tr>\n    <tr>\n      <th>4</th>\n      <td>2008</td>\n      <td>254</td>\n      <td>604</td>\n      <td>100</td>\n      <td>1271</td>\n      <td>3258</td>\n      <td>5607</td>\n      <td>1136</td>\n      <td>574</td>\n      <td>107</td>\n      <td>12911</td>\n    </tr>\n    <tr>\n      <th>5</th>\n      <td>2009</td>\n      <td>167</td>\n      <td>405</td>\n      <td>70</td>\n      <td>828</td>\n      <td>1049</td>\n      <td>4281</td>\n      <td>482</td>\n      <td>121</td>\n      <td>61</td>\n      <td>7464</td>\n    </tr>\n    <tr>\n      <th>6</th>\n      <td>2010</td>\n      <td>259</td>\n      <td>595</td>\n      <td>53</td>\n      <td>712</td>\n      <td>871</td>\n      <td>3770</td>\n      <td>435</td>\n      <td>256</td>\n      <td>49</td>\n      <td>7000</td>\n    </tr>\n    <tr>\n      <th>7</th>\n      <td>2011</td>\n      <td>280</td>\n      <td>502</td>\n      <td>66</td>\n      <td>396</td>\n      <td>1120</td>\n      <td>3008</td>\n      <td>865</td>\n      <td>141</td>\n      <td>40</td>\n      <td>6418</td>\n    </tr>\n    <tr>\n      <th>8</th>\n      <td>2012</td>\n      <td>305</td>\n      <td>523</td>\n      <td>27</td>\n      <td>269</td>\n      <td>757</td>\n      <td>1741</td>\n      <td>773</td>\n      <td>124</td>\n      <td>52</td>\n      <td>4571</td>\n    </tr>\n    <tr>\n      <th>9</th>\n      <td>2013</td>\n      <td>221</td>\n      <td>583</td>\n      <td>23</td>\n      <td>403</td>\n      <td>1139</td>\n      <td>2346</td>\n      <td>932</td>\n      <td>170</td>\n      <td>74</td>\n      <td>5891</td>\n    </tr>\n    <tr>\n      <th>10</th>\n      <td>2014</td>\n      <td>309</td>\n      <td>500</td>\n      <td>31</td>\n      <td>257</td>\n      <td>1075</td>\n      <td>1887</td>\n      <td>684</td>\n      <td>219</td>\n      <td>50</td>\n      <td>5012</td>\n    </tr>\n    <tr>\n      <th>11</th>\n      <td>2015</td>\n      <td>264</td>\n      <td>712</td>\n      <td>25</td>\n      <td>209</td>\n      <td>1601</td>\n      <td>2153</td>\n      <td>1030</td>\n      <td>156</td>\n      <td>57</td>\n      <td>6207</td>\n    </tr>\n    <tr>\n      <th>12</th>\n      <td>2016</td>\n      <td>372</td>\n      <td>1129</td>\n      <td>17</td>\n      <td>258</td>\n      <td>1489</td>\n      <td>2992</td>\n      <td>1376</td>\n      <td>202</td>\n      <td>58</td>\n      <td>7893</td>\n    </tr>\n    <tr>\n      <th>13</th>\n      <td>2017</td>\n      <td>257</td>\n      <td>1001</td>\n      <td>24</td>\n      <td>265</td>\n      <td>1561</td>\n      <td>2433</td>\n      <td>1243</td>\n      <td>132</td>\n      <td>31</td>\n      <td>6947</td>\n    </tr>\n    <tr>\n      <th>14</th>\n      <td>2018</td>\n      <td>444</td>\n      <td>1045</td>\n      <td>24</td>\n      <td>253</td>\n      <td>1490</td>\n      <td>2744</td>\n      <td>1316</td>\n      <td>195</td>\n      <td>25</td>\n      <td>7536</td>\n    </tr>\n    <tr>\n      <th>15</th>\n      <td>2019</td>\n      <td>688</td>\n      <td>1421</td>\n      <td>8</td>\n      <td>215</td>\n      <td>1685</td>\n      <td>3862</td>\n      <td>1245</td>\n      <td>617</td>\n      <td>21</td>\n      <td>9762</td>\n    </tr>\n  </tbody>\n</table>\n</div>"
     },
     "execution_count": 74,
     "metadata": {},
     "output_type": "execute_result"
    }
   ]
  },
  {
   "cell_type": "code",
   "metadata": {
    "colab": {
     "base_uri": "https://localhost:8080/"
    },
    "id": "1DbWZPkrSgRI",
    "executionInfo": {
     "status": "ok",
     "timestamp": 1624408470700,
     "user_tz": 180,
     "elapsed": 668,
     "user": {
      "displayName": "Lorena Leão",
      "photoUrl": "https://lh3.googleusercontent.com/a-/AOh14Gja2BMOdqMKMdOxT0E9KyHFC0f0K3wC17oLTkleKw=s64",
      "userId": "04396726281531871123"
     }
    },
    "outputId": "842c7b99-f1dd-4aff-cedc-d720c71af041"
   },
   "source": [
    "def_area_df.isnull().sum()"
   ],
   "execution_count": 50,
   "outputs": [
    {
     "data": {
      "text/plain": "Ano/Estados    0\nAC             0\nAM             0\nAP             0\nMA             0\nMT             0\nPA             0\nRO             0\nRR             0\nTO             0\nAMZ LEGAL      0\ndtype: int64"
     },
     "execution_count": 50,
     "metadata": {},
     "output_type": "execute_result"
    }
   ]
  },
  {
   "cell_type": "markdown",
   "source": [
    "#### Checking if `AMZ LEGAL`is equal the sum of the all countries areas"
   ],
   "metadata": {
    "collapsed": false,
    "pycharm": {
     "name": "#%% md\n"
    }
   }
  },
  {
   "cell_type": "code",
   "execution_count": 75,
   "outputs": [
    {
     "name": "stdout",
     "output_type": "stream",
     "text": [
      "['AC', 'AM', 'AP', 'MA', 'MT', 'PA', 'RO', 'RR', 'TO']\n"
     ]
    },
    {
     "data": {
      "text/plain": "0     True\n1     True\n2     True\n3     True\n4     True\n5     True\n6     True\n7     True\n8     True\n9     True\n10    True\n11    True\n12    True\n13    True\n14    True\n15    True\ndtype: bool"
     },
     "execution_count": 75,
     "metadata": {},
     "output_type": "execute_result"
    }
   ],
   "source": [
    "column_list = list(def_area_df)\n",
    "column_list.remove('AMZ LEGAL')\n",
    "column_list.remove('Ano/Estados')\n",
    "print(column_list)\n",
    "def_area_df[\"sum\"] = def_area_df[column_list].sum(axis=1)\n",
    "def_area_df[\"sum\"] == def_area_df[\"AMZ LEGAL\"]"
   ],
   "metadata": {
    "collapsed": false,
    "pycharm": {
     "name": "#%%\n"
    }
   }
  },
  {
   "cell_type": "code",
   "execution_count": 76,
   "outputs": [
    {
     "data": {
      "text/plain": "    Ano/Estados   AC    AM   AP    MA     MT    PA    RO   RR   TO  AMZ LEGAL\n0          2004  728  1232   46   755  11814  8870  3858  311  158      27772\n1          2005  592   775   33   922   7145  5899  3244  133  271      19014\n2          2006  398   788   30   674   4333  5659  2049  231  124      14286\n3          2007  184   610   39   631   2678  5526  1611  309   63      11651\n4          2008  254   604  100  1271   3258  5607  1136  574  107      12911\n5          2009  167   405   70   828   1049  4281   482  121   61       7464\n6          2010  259   595   53   712    871  3770   435  256   49       7000\n7          2011  280   502   66   396   1120  3008   865  141   40       6418\n8          2012  305   523   27   269    757  1741   773  124   52       4571\n9          2013  221   583   23   403   1139  2346   932  170   74       5891\n10         2014  309   500   31   257   1075  1887   684  219   50       5012\n11         2015  264   712   25   209   1601  2153  1030  156   57       6207\n12         2016  372  1129   17   258   1489  2992  1376  202   58       7893\n13         2017  257  1001   24   265   1561  2433  1243  132   31       6947\n14         2018  444  1045   24   253   1490  2744  1316  195   25       7536\n15         2019  688  1421    8   215   1685  3862  1245  617   21       9762",
      "text/html": "<div>\n<style scoped>\n    .dataframe tbody tr th:only-of-type {\n        vertical-align: middle;\n    }\n\n    .dataframe tbody tr th {\n        vertical-align: top;\n    }\n\n    .dataframe thead th {\n        text-align: right;\n    }\n</style>\n<table border=\"1\" class=\"dataframe\">\n  <thead>\n    <tr style=\"text-align: right;\">\n      <th></th>\n      <th>Ano/Estados</th>\n      <th>AC</th>\n      <th>AM</th>\n      <th>AP</th>\n      <th>MA</th>\n      <th>MT</th>\n      <th>PA</th>\n      <th>RO</th>\n      <th>RR</th>\n      <th>TO</th>\n      <th>AMZ LEGAL</th>\n    </tr>\n  </thead>\n  <tbody>\n    <tr>\n      <th>0</th>\n      <td>2004</td>\n      <td>728</td>\n      <td>1232</td>\n      <td>46</td>\n      <td>755</td>\n      <td>11814</td>\n      <td>8870</td>\n      <td>3858</td>\n      <td>311</td>\n      <td>158</td>\n      <td>27772</td>\n    </tr>\n    <tr>\n      <th>1</th>\n      <td>2005</td>\n      <td>592</td>\n      <td>775</td>\n      <td>33</td>\n      <td>922</td>\n      <td>7145</td>\n      <td>5899</td>\n      <td>3244</td>\n      <td>133</td>\n      <td>271</td>\n      <td>19014</td>\n    </tr>\n    <tr>\n      <th>2</th>\n      <td>2006</td>\n      <td>398</td>\n      <td>788</td>\n      <td>30</td>\n      <td>674</td>\n      <td>4333</td>\n      <td>5659</td>\n      <td>2049</td>\n      <td>231</td>\n      <td>124</td>\n      <td>14286</td>\n    </tr>\n    <tr>\n      <th>3</th>\n      <td>2007</td>\n      <td>184</td>\n      <td>610</td>\n      <td>39</td>\n      <td>631</td>\n      <td>2678</td>\n      <td>5526</td>\n      <td>1611</td>\n      <td>309</td>\n      <td>63</td>\n      <td>11651</td>\n    </tr>\n    <tr>\n      <th>4</th>\n      <td>2008</td>\n      <td>254</td>\n      <td>604</td>\n      <td>100</td>\n      <td>1271</td>\n      <td>3258</td>\n      <td>5607</td>\n      <td>1136</td>\n      <td>574</td>\n      <td>107</td>\n      <td>12911</td>\n    </tr>\n    <tr>\n      <th>5</th>\n      <td>2009</td>\n      <td>167</td>\n      <td>405</td>\n      <td>70</td>\n      <td>828</td>\n      <td>1049</td>\n      <td>4281</td>\n      <td>482</td>\n      <td>121</td>\n      <td>61</td>\n      <td>7464</td>\n    </tr>\n    <tr>\n      <th>6</th>\n      <td>2010</td>\n      <td>259</td>\n      <td>595</td>\n      <td>53</td>\n      <td>712</td>\n      <td>871</td>\n      <td>3770</td>\n      <td>435</td>\n      <td>256</td>\n      <td>49</td>\n      <td>7000</td>\n    </tr>\n    <tr>\n      <th>7</th>\n      <td>2011</td>\n      <td>280</td>\n      <td>502</td>\n      <td>66</td>\n      <td>396</td>\n      <td>1120</td>\n      <td>3008</td>\n      <td>865</td>\n      <td>141</td>\n      <td>40</td>\n      <td>6418</td>\n    </tr>\n    <tr>\n      <th>8</th>\n      <td>2012</td>\n      <td>305</td>\n      <td>523</td>\n      <td>27</td>\n      <td>269</td>\n      <td>757</td>\n      <td>1741</td>\n      <td>773</td>\n      <td>124</td>\n      <td>52</td>\n      <td>4571</td>\n    </tr>\n    <tr>\n      <th>9</th>\n      <td>2013</td>\n      <td>221</td>\n      <td>583</td>\n      <td>23</td>\n      <td>403</td>\n      <td>1139</td>\n      <td>2346</td>\n      <td>932</td>\n      <td>170</td>\n      <td>74</td>\n      <td>5891</td>\n    </tr>\n    <tr>\n      <th>10</th>\n      <td>2014</td>\n      <td>309</td>\n      <td>500</td>\n      <td>31</td>\n      <td>257</td>\n      <td>1075</td>\n      <td>1887</td>\n      <td>684</td>\n      <td>219</td>\n      <td>50</td>\n      <td>5012</td>\n    </tr>\n    <tr>\n      <th>11</th>\n      <td>2015</td>\n      <td>264</td>\n      <td>712</td>\n      <td>25</td>\n      <td>209</td>\n      <td>1601</td>\n      <td>2153</td>\n      <td>1030</td>\n      <td>156</td>\n      <td>57</td>\n      <td>6207</td>\n    </tr>\n    <tr>\n      <th>12</th>\n      <td>2016</td>\n      <td>372</td>\n      <td>1129</td>\n      <td>17</td>\n      <td>258</td>\n      <td>1489</td>\n      <td>2992</td>\n      <td>1376</td>\n      <td>202</td>\n      <td>58</td>\n      <td>7893</td>\n    </tr>\n    <tr>\n      <th>13</th>\n      <td>2017</td>\n      <td>257</td>\n      <td>1001</td>\n      <td>24</td>\n      <td>265</td>\n      <td>1561</td>\n      <td>2433</td>\n      <td>1243</td>\n      <td>132</td>\n      <td>31</td>\n      <td>6947</td>\n    </tr>\n    <tr>\n      <th>14</th>\n      <td>2018</td>\n      <td>444</td>\n      <td>1045</td>\n      <td>24</td>\n      <td>253</td>\n      <td>1490</td>\n      <td>2744</td>\n      <td>1316</td>\n      <td>195</td>\n      <td>25</td>\n      <td>7536</td>\n    </tr>\n    <tr>\n      <th>15</th>\n      <td>2019</td>\n      <td>688</td>\n      <td>1421</td>\n      <td>8</td>\n      <td>215</td>\n      <td>1685</td>\n      <td>3862</td>\n      <td>1245</td>\n      <td>617</td>\n      <td>21</td>\n      <td>9762</td>\n    </tr>\n  </tbody>\n</table>\n</div>"
     },
     "execution_count": 76,
     "metadata": {},
     "output_type": "execute_result"
    }
   ],
   "source": [
    "def_area_df.drop(columns=[\"sum\"], inplace=True)\n",
    "def_area_df"
   ],
   "metadata": {
    "collapsed": false,
    "pycharm": {
     "name": "#%%\n"
    }
   }
  },
  {
   "cell_type": "markdown",
   "metadata": {
    "id": "G-abmF6aYdF-"
   },
   "source": [
    "Segundo o IBGE, \"A Amazônia Legal corresponde à área de atuação da Superintendência de Desenvolvimento da Amazônia - SUDAM delimitada em consonância ao Art. 2o da Lei Complementar n. 124, de 03.01.2007. A região é composta por 772 municípios distribuídos da seguinte forma: 52 municípios de Rondônia, 22 municípios do Acre, 62 do Amazonas, 15 de Roraima, 144 do Pará, 16 do Amapá, 139 do Tocantins, 141 do Mato Grosso, bem como, por 181 Municípios do Estado do Maranhão situados ao oeste do Meridiano 44º, dos quais, 21 deles, estão parcialmente integrados na Amazônia Legal. Possui uma superfície aproximada de 5.015.067,75 km², correspondente a cerca de 58,9% do território brasileiro.\"\n",
    "\n",
    "Fonte: https://www.ibge.gov.br/geociencias/cartas-e-mapas/mapas-regionais/15819-amazonia-legal.html?=&t=o-que-e\n",
    "\n",
    "\"O conceito de Amazônia Legal foi instituído pelo governo brasileiro como forma de planejar e promover o desenvolvimento social e econômico dos estados da região amazônica, que historicamente compartilham os mesmos desafios econômicos, políticos e sociais. Baseados em análises estruturais e conjunturais, seus limites territoriais tem um viés sociopolítico e não geográfico, isto é, não são definidos pelo bioma Amazônia – que ocupa cerca de 49% do território nacional e se estende também pelo território de oito países vizinhos -, mas pelas necessidades de desenvolvimento identificadas na região.\n",
    "\n",
    "A Amazônia Legal é uma área de 5.217.423 km², que corresponde a 61% do território brasileiro. Além de abrigar todo o bioma Amazônia brasileiro, ainda contém 20% do bioma Cerrado e parte do Pantanal matogrossesense.\"\n",
    "\n",
    "Fonte: https://www.oeco.org.br/dicionario-ambiental/28783-o-que-e-a-amazonia-legal/\n",
    "\n",
    "\"O que é? Amazônia Legal\n",
    "2008 . Ano 5 . Edição 44 - 08/06/2008\n",
    "\n",
    "Amazônia Legal\n",
    "\n",
    "A Amazônia Legal é uma área que corresponde a 59% do território brasileiro e engloba a totalidade de oito estados (Acre, Amapá, Amazonas, Mato Grosso, Pará, Rondônia, Roraima e Tocantins) e parte do Estado do Maranhão (a oeste do meridiano de 44ºW), perfazendo 5,0 milhões de km². Nela residem 56% da população indígena brasileira. O conceito de Amazônia Legal foi instituído em 1953 e seus limites territoriais decorrem da necessidade de planejar o desenvolvimento econômico da região e, por isso, não se resumem ao ecossistema de selva úmida, que ocupa 49% do território nacional e se estende também pelo território de oito países vizinhos. Os limites da Amazônia Legal foram alterados várias vezes em conseqüência de mudanças na divisão política do país. O Plano Amazônia Sustentável (PAS), lançado em maio deste ano pelo governo federal, considera integralmente o Estado do Maranhão como parte da Amazônia Brasileira.\"\n",
    "\n",
    "Fonte: https://www.ipea.gov.br/desafios/index.php?option=com_content&id=2154:catid=28"
   ]
  },
  {
   "cell_type": "markdown",
   "source": [
    "##### **Revised Data Dictionary**\n",
    "\n",
    "| Variable  | Description                                                | Data Type |\n",
    "| --------- | -----------------------------------| ------ |\n",
    "| Ano | Year of occurrence    | Ordinal |\n",
    "| AC | Deforested area in Acre state (km²) | Numerical |\n",
    "| AM | Deforested area in Amazonas state (km²) | Numerical |\n",
    "| AP | Deforested area in Amapa state (km²) | Numerical |\n",
    "| MA | Deforested area in Maranhao state (km²) | Numerical |\n",
    "| MT | Deforested area in Mato Grosso state (km²) | Numerical |\n",
    "| PA | Deforested area in Para state (km²) | Numerical |\n",
    "| RO | Deforested area in Rondonia state (km²) | Numerical |\n",
    "| RR | Deforested area in Roraima state (km²) | Numerical |\n",
    "| TO | Deforested area in Tocantins state (km²) | Numerical |\n",
    "| AMZ LEGAL | Deforested area in Legal Amazon (km²) | Numerical |\n"
   ],
   "metadata": {
    "collapsed": false
   }
  }
 ]
}